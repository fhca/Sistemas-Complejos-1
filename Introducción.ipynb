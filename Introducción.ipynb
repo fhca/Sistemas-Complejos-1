{
 "cells": [
  {
   "cell_type": "markdown",
   "metadata": {},
   "source": [
    "# Introducción a los Sistemas Complejos"
   ]
  },
  {
   "cell_type": "markdown",
   "metadata": {},
   "source": [
    "Bibliografía a consultar:\n",
    "* [PROGRAMA DE ESTUDIOS: SISTEMAS COMPLEJOS I](SC1_A.PDF)\n",
    "* [Devaney - A first course in chaotic dynamical systems](libros/Devaney_-_A_first_course_in_chaotic_dynamical_systems.djvu)\n",
    "* [Mitchell - Complexity, a guided tour](libros/complexity_a_guided_tourmitchellmelanie.pdf)"
   ]
  },
  {
   "cell_type": "markdown",
   "metadata": {
    "collapsed": true
   },
   "source": [
    "# Intro a mapeos\n",
    "\n",
    "## Interés"
   ]
  },
  {
   "cell_type": "code",
   "execution_count": 38,
   "metadata": {},
   "outputs": [
    {
     "name": "stdout",
     "output_type": "stream",
     "text": [
      "100 0.1 110.0\n"
     ]
    }
   ],
   "source": [
    "inicial = 100\n",
    "tasa = 0.1  # tasa del 10%\n",
    "iterado = inicial + inicial * tasa\n",
    "print(inicial, tasa, iterado)"
   ]
  },
  {
   "cell_type": "code",
   "execution_count": 35,
   "metadata": {},
   "outputs": [
    {
     "data": {
      "text/plain": [
       "194.8717100000001"
      ]
     },
     "execution_count": 35,
     "metadata": {},
     "output_type": "execute_result"
    }
   ],
   "source": [
    "iterado = (1 + tasa) * iterado\n",
    "iterado  # correr varias veces esta celda ..."
   ]
  },
  {
   "cell_type": "code",
   "execution_count": 2,
   "metadata": {
    "collapsed": true
   },
   "outputs": [],
   "source": [
    "%matplotlib inline\n",
    "import matplotlib.pyplot as plt\n",
    "import numpy as np\n",
    "\n",
    "def ORBITA(inicial, función, veces):\n",
    "    x = [inicial]\n",
    "    for i in range(veces):\n",
    "        anterior = x[-1]\n",
    "        x.append(función(anterior))\n",
    "    return np.array(x)"
   ]
  },
  {
   "cell_type": "code",
   "execution_count": 117,
   "metadata": {},
   "outputs": [
    {
     "name": "stdout",
     "output_type": "stream",
     "text": [
      "7\n",
      "[1, 2, 3]\n",
      "3\n"
     ]
    }
   ],
   "source": [
    "x = 7\n",
    "print(x)\n",
    "x = [1,2,3]\n",
    "print(x)\n",
    "print(x[-1])"
   ]
  },
  {
   "cell_type": "code",
   "execution_count": 118,
   "metadata": {},
   "outputs": [
    {
     "data": {
      "text/plain": [
       "'que bonito día'"
      ]
     },
     "execution_count": 118,
     "metadata": {},
     "output_type": "execute_result"
    }
   ],
   "source": [
    "\"que bonito día\""
   ]
  },
  {
   "cell_type": "code",
   "execution_count": 120,
   "metadata": {},
   "outputs": [
    {
     "data": {
      "image/png": "[encoded data removed]",
      "text/plain": [
       "<matplotlib.figure.Figure at 0x116021da0>"
      ]
     },
     "metadata": {},
     "output_type": "display_data"
    }
   ],
   "source": [
    "x = np.arange(100)\n",
    "y = (1 + tasa) * x\n",
    "plt.plot(y, 'r-')\n",
    "plt.plot(x, 'b-')\n",
    "plt.show()"
   ]
  },
  {
   "cell_type": "code",
   "execution_count": 44,
   "metadata": {},
   "outputs": [
    {
     "data": {
      "text/plain": [
       "[<matplotlib.lines.Line2D at 0x1134840f0>]"
      ]
     },
     "execution_count": 44,
     "metadata": {},
     "output_type": "execute_result"
    },
    {
     "data": {
      "image/png": "[encoded data removed]",
      "text/plain": [
       "<matplotlib.figure.Figure at 0x113349e48>"
      ]
     },
     "metadata": {},
     "output_type": "display_data"
    }
   ],
   "source": [
    "tasa = 0.1  # modifica la tasa: 0, 0.00001  (modifica el range a 1000000), 1\n",
    "x0 = 100\n",
    "\n",
    "def incremento(x):\n",
    "    \"\"\"Función para incrementar un valor con cierta tasa de interés.\n",
    "        PARÁMETROS:\n",
    "                    x : valor inicial a incrementar\n",
    "        \n",
    "        CONSTANTE EXTERNA:\n",
    "                    tasa : tasa de interés\n",
    "    \"\"\"\n",
    "    return (1 + tasa) * x\n",
    "\n",
    "x = ORBITA(x0, incremento, 10)\n",
    "\n",
    "plt.plot(x, 'r-*')  # que figura es?"
   ]
  },
  {
   "cell_type": "markdown",
   "metadata": {},
   "source": [
    "### Ejercicios:\n",
    "* ¿Qué tasas muestran figuras cualitativamente diferentes?"
   ]
  },
  {
   "cell_type": "markdown",
   "metadata": {},
   "source": [
    "## Crecimiento poblacional\n",
    "Suposición: El tamaño de la población después del tiempo t+1, será proporcional a la del tiempo t"
   ]
  },
  {
   "cell_type": "code",
   "execution_count": 55,
   "metadata": {},
   "outputs": [
    {
     "data": {
      "text/plain": [
       "[<matplotlib.lines.Line2D at 0x113f0b668>]"
      ]
     },
     "execution_count": 55,
     "metadata": {},
     "output_type": "execute_result"
    },
    {
     "data": {
      "image/png": "[encoded data removed]",
      "text/plain": [
       "<matplotlib.figure.Figure at 0x113d806d8>"
      ]
     },
     "metadata": {},
     "output_type": "display_data"
    }
   ],
   "source": [
    "p0 = 1.1\n",
    "tasa = 1 # constante de proporcionalidad\n",
    "\n",
    "def cambio(p):\n",
    "    return tasa * p   # p1 = tasa * p0\n",
    "\n",
    "x = ORBITA(p0, cambio, 100)\n",
    "plt.plot(x, 'r-*')"
   ]
  },
  {
   "cell_type": "code",
   "execution_count": 24,
   "metadata": {},
   "outputs": [
    {
     "name": "stderr",
     "output_type": "stream",
     "text": [
      "/usr/local/lib/python3.6/site-packages/ipykernel/__main__.py:1: RuntimeWarning: overflow encountered in exp\n",
      "  if __name__ == '__main__':\n"
     ]
    },
    {
     "data": {
      "text/plain": [
       "inf"
      ]
     },
     "execution_count": 24,
     "metadata": {},
     "output_type": "execute_result"
    }
   ],
   "source": [
    "np.exp(np.exp(np.exp(np.exp(np.exp(.1)))))"
   ]
  },
  {
   "cell_type": "markdown",
   "metadata": {},
   "source": [
    "Ejercicios:\n",
    "* ¿Qué gráfica tiene la función \"cambio()\"\n",
    "* ¿Qué valores de la tasa producen gráficas cualitativamente diferentes y por qué?"
   ]
  },
  {
   "cell_type": "code",
   "execution_count": 98,
   "metadata": {},
   "outputs": [
    {
     "data": {
      "text/plain": [
       "[<matplotlib.lines.Line2D at 0x115e9e0b8>]"
      ]
     },
     "execution_count": 98,
     "metadata": {},
     "output_type": "execute_result"
    },
    {
     "data": {
      "image/png": "[encoded data removed]",
      "text/plain": [
       "<matplotlib.figure.Figure at 0x11583ab00>"
      ]
     },
     "metadata": {},
     "output_type": "display_data"
    }
   ],
   "source": [
    "p0 = .5 # 0 <= p0 <= 1\n",
    "tasa = 1 # 0 <= tasa <= 4\n",
    "\n",
    "def logística(x):\n",
    "    return tasa * x * (1 - x)\n",
    "\n",
    "x = ORBITA(p0, logística, 100)\n",
    "\n",
    "plt.plot(x, 'r-*')"
   ]
  },
  {
   "cell_type": "markdown",
   "metadata": {},
   "source": [
    "Ejercicios:\n",
    "* ¿Qué gráfica tiene la función \"logística()\"\n",
    "* ¿Qué valores de la tasa producen gráficas cualitativamente diferentes y por qué?"
   ]
  },
  {
   "cell_type": "code",
   "execution_count": null,
   "metadata": {
    "collapsed": true
   },
   "outputs": [],
   "source": []
  }
 ],
 "metadata": {
  "kernelspec": {
   "display_name": "Python 3",
   "language": "python",
   "name": "python3"
  },
  "language_info": {
   "codemirror_mode": {
    "name": "ipython",
    "version": 3
   },
   "file_extension": ".py",
   "mimetype": "text/x-python",
   "name": "python",
   "nbconvert_exporter": "python",
   "pygments_lexer": "ipython3",
   "version": "3.6.1"
  }
 },
 "nbformat": 4,
 "nbformat_minor": 1
}
