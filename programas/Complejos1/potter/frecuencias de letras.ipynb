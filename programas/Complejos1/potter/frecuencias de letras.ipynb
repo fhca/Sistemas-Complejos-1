{
 "cells": [
  {
   "cell_type": "code",
   "execution_count": 263,
   "metadata": {
    "collapsed": true
   },
   "outputs": [],
   "source": [
    "import pandas as pd\n",
    "import matplotlib.pyplot as plt\n",
    "import numpy as np\n",
    "import re\n",
    "%matplotlib inline"
   ]
  },
  {
   "cell_type": "code",
   "execution_count": 264,
   "metadata": {},
   "outputs": [
    {
     "data": {
      "text/plain": [
       "gto    a\n",
       "gro    b\n",
       "df     c\n",
       "dtype: object"
      ]
     },
     "execution_count": 264,
     "metadata": {},
     "output_type": "execute_result"
    }
   ],
   "source": [
    "a = ['a', 'b', 'c']\n",
    "#np.array(a)\n",
    "pd.Series(a, index=['gto', 'gro', 'df'])"
   ]
  },
  {
   "cell_type": "code",
   "execution_count": 265,
   "metadata": {},
   "outputs": [
    {
     "data": {
      "text/plain": [
       "<matplotlib.axes._subplots.AxesSubplot at 0x16c9e1c88>"
      ]
     },
     "execution_count": 265,
     "metadata": {},
     "output_type": "execute_result"
    },
    {
     "data": {
      "image/png": "[encoded data removed]",
      "text/plain": [
       "<matplotlib.figure.Figure at 0x167700cc0>"
      ]
     },
     "metadata": {},
     "output_type": "display_data"
    }
   ],
   "source": [
    "letras = re.compile('[a-z]', flags=re.IGNORECASE)\n",
    "with open(\"L3azkaban.txt\") as arch:\n",
    "    l=[]\n",
    "    for linea in arch.readlines():\n",
    "        l.extend(letras.findall(linea))\n",
    "l = pd.Series(l).str.upper()\n",
    "l = l.apply(ord)\n",
    "l.hist(bins='auto')"
   ]
  },
  {
   "cell_type": "code",
   "execution_count": 271,
   "metadata": {},
   "outputs": [
    {
     "data": {
      "text/plain": [
       "[<matplotlib.lines.Line2D at 0x16f9cfa20>]"
      ]
     },
     "execution_count": 271,
     "metadata": {},
     "output_type": "execute_result"
    },
    {
     "data": {
      "image/png": "[encoded data removed]",
      "text/plain": [
       "<matplotlib.figure.Figure at 0x16e87dfd0>"
      ]
     },
     "metadata": {},
     "output_type": "display_data"
    }
   ],
   "source": [
    "def inicial(palabra):\n",
    "    if type(palabra) != str:\n",
    "        return np.NaN\n",
    "    trad = {'Á':'A', 'É':'E', 'Í':'I', 'Ó':'O', 'Ú':'U', 'Ñ':'N', '0':'Z', '1':'Z', '2':'Z', '3':'Z', '4':'Z', '5':'Z', '6':'Z', '7':'Z', '8':'Z', '9':'Z'}\n",
    "    p = []\n",
    "    for l in palabra:\n",
    "        p.append(trad.get(l, l))\n",
    "    palabra = ''.join(p)\n",
    "    if palabra.lower() in ['a', 'ante', 'bajo', 'cabe', 'con', 'contra', 'de', 'desde', 'en', 'entre', 'para', 'por', 'segun', 'sobre', 'tras', 'y', 'o', 'e', 'ni', \n",
    "                   'el', 'la', 'los', 'las', 'un', 'uno', 'unos', 'una', 'unas', 'nosotros', 'ustedes', 'ellos', 'su', 'sus', 'que', 'mas', 'suyo', 'suya']:\n",
    "        return np.NaN\n",
    "    #print(palabra)\n",
    "    return ord(palabra[0])\n",
    "\n",
    "letras = re.compile('\\w+', flags=re.IGNORECASE)\n",
    "with open(\"L3azkaban.txt\") as arch:\n",
    "    l=[]\n",
    "    for linea in arch.readlines():\n",
    "        l.extend(letras.findall(linea))\n",
    "l = pd.Series(l).str.upper()\n",
    "\n",
    "l=l.apply(inicial)\n",
    "l.dropna(inplace=True)\n",
    "\n",
    "frec = np.histogram(np.array(l), bins='auto')[0]\n",
    "frec.sort()\n",
    "\n",
    "plt.xscale(\"log\")\n",
    "plt.yscale(\"log\")\n",
    "plt.plot(frec)"
   ]
  },
  {
   "cell_type": "code",
   "execution_count": 246,
   "metadata": {},
   "outputs": [],
   "source": [
    "calles = pd.read_excel(\"calles_tabla.xlsx\")['NOMVIAL']"
   ]
  },
  {
   "cell_type": "code",
   "execution_count": 253,
   "metadata": {},
   "outputs": [
    {
     "data": {
      "text/plain": [
       "<matplotlib.axes._subplots.AxesSubplot at 0x16fa6a5f8>"
      ]
     },
     "execution_count": 253,
     "metadata": {},
     "output_type": "execute_result"
    },
    {
     "data": {
      "image/png": "[encoded data removed]",
      "text/plain": [
       "<matplotlib.figure.Figure at 0x16a4d5358>"
      ]
     },
     "metadata": {},
     "output_type": "display_data"
    }
   ],
   "source": [
    "calles.apply(inicial).dropna().hist(bins='auto')"
   ]
  },
  {
   "cell_type": "code",
   "execution_count": null,
   "metadata": {
    "collapsed": true
   },
   "outputs": [],
   "source": []
  }
 ],
 "metadata": {
  "kernelspec": {
   "display_name": "Python 3",
   "language": "python",
   "name": "python3"
  },
  "language_info": {
   "codemirror_mode": {
    "name": "ipython",
    "version": 3
   },
   "file_extension": ".py",
   "mimetype": "text/x-python",
   "name": "python",
   "nbconvert_exporter": "python",
   "pygments_lexer": "ipython3",
   "version": "3.6.3"
  }
 },
 "nbformat": 4,
 "nbformat_minor": 2
}
